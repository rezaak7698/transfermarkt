{
 "cells": [
  {
   "cell_type": "code",
   "execution_count": 1,
   "id": "e77b457f",
   "metadata": {},
   "outputs": [],
   "source": [
    "from bs4 import BeautifulSoup\n",
    "import requests\n",
    "from bs4 import BeautifulSoup\n",
    "import re\n",
    "import json\n",
    "import pandas as pd"
   ]
  },
  {
   "cell_type": "code",
   "execution_count": null,
   "id": "00155e45",
   "metadata": {},
   "outputs": [],
   "source": [
    "# leagues_name = ['premier-league', 'laliga', 'bundesliga', 'serie-a', 'ligue-1']\n",
    "# countries = ['GB1', 'ES1', 'L1', 'IT1', 'FR1']\n",
    "# years = [2017, 2018, 2019, 2020, 2021]"
   ]
  },
  {
   "cell_type": "code",
   "execution_count": 2,
   "id": "34ee384a",
   "metadata": {},
   "outputs": [],
   "source": [
    "def ball_possession(leagues_name, countries, years):\n",
    "    \n",
    "    Ball_possession = []\n",
    "    shots = []\n",
    "    for league,country in zip(leagues_name, countries):\n",
    "        for year in years:\n",
    "            record = {}\n",
    "            headers = {'User-Agent': 'Mozilla/5.0 (Windows NT 10.0; Win64; x64) AppleWebKit/537.36 (KHTML, like Gecko) Chrome/58.0.3029.110 Safari/537.3'}\n",
    "            page = requests.get('https://www.transfermarkt.com/' + league + '/ballbesitz/wettbewerb/'+ country + '/saison_id/' + str(year), headers=headers)\n",
    "            soup = BeautifulSoup(page.content, 'html.parser')\n",
    "            for name in ['odd', 'even']:\n",
    "                s = soup.find('div', class_= 'large-8 columns')\n",
    "                for team in s.find_all('tr', class_=name):\n",
    "                    team_name = team.find('td', class_='hauptlink no-border-links').find('a').text\n",
    "                    possession = float(team.find_all('td', class_ = 'zentriert')[-1].text.split('%')[0].strip())\n",
    "                    team_possession = {}\n",
    "                    team_possession['year'] = int(year)\n",
    "                    team_possession['team_name'] = team_name\n",
    "                    team_possession['ball_possession'] = possession\n",
    "                    Ball_possession.append(team_possession)\n",
    "    return Ball_possession"
   ]
  },
  {
   "cell_type": "code",
   "execution_count": 3,
   "id": "52506b5d",
   "metadata": {},
   "outputs": [],
   "source": [
    "def total_shot_rate(leagues_name, countries, years):\n",
    "\n",
    "    total_shot_rate = []\n",
    "    for league,country in zip(leagues_name, countries):\n",
    "        for year in years:\n",
    "            goal_records = {}\n",
    "            headers = {'User-Agent': 'Mozilla/5.0 (Windows NT 10.0; Win64; x64) AppleWebKit/537.36 (KHTML, like Gecko) Chrome/58.0.3029.110 Safari/537.3'}\n",
    "            page = requests.get('https://www.transfermarkt.com/' + league + '/chancenverwertung/wettbewerb/' + country + '/saison_id/' + str(year) + '/plus/1', headers=headers)\n",
    "            soup = BeautifulSoup(page.content, 'html.parser')\n",
    "            l1=[]\n",
    "            for name in ['odd', 'even']:\n",
    "                teams = soup.find('div', class_ = 'responsive-table')\n",
    "\n",
    "                for team in teams.find_all('tr', class_=name):\n",
    "                    team_name = team.find('td', class_ = 'hauptlink no-border-links').find('a').text\n",
    "                   \n",
    "                    total_shot = int(team.find_all('td', class_ = 'zentriert hauptlink')[0].text)\n",
    "                    \n",
    "                    total_shot_at_target = int(team.find_all('td', class_ = 'zentriert')[-2].text)\n",
    "                    \n",
    "                    goals = int(team.find_all('td', class_ = 'zentriert hauptlink')[1].text)\n",
    "                    \n",
    "                    goals_shot_ratio = float(team.find('td', class_= 'rechts hauptlink').text.split('%')[0].strip())\n",
    "                    \n",
    "                    goal_records = {}\n",
    "                    goal_records['year'] = year\n",
    "                    goal_records['team_name'] = team_name\n",
    "                    goal_records['total_shot'] = total_shot\n",
    "                    goal_records['total_shot_at_target'] = total_shot_at_target\n",
    "                    goal_records['goals'] = goals\n",
    "                    goal_records['goals_shot_ratio'] = goals_shot_ratio\n",
    "                    total_shot_rate.append(goal_records)\n",
    "                    \n",
    "    return total_shot_rate"
   ]
  },
  {
   "cell_type": "code",
   "execution_count": null,
   "id": "28a415d9",
   "metadata": {},
   "outputs": [],
   "source": [
    "Ball_possession = ball_possession(leagues_name, countries, years)\n",
    "total_shot_rate = total_shot_rate(leagues_name, countries, years)\n",
    "\n",
    "ball_possession_df = pd.DataFrame(Ball_possession)\n",
    "ball_possession_df.to_csv('ball_possession.csv')\n",
    "\n",
    "shot_df = pd.DataFrame(total_shot_rate)\n",
    "shot_df.to_csv('shot_statistics.csv')"
   ]
  }
 ],
 "metadata": {
  "kernelspec": {
   "display_name": "Python 3 (ipykernel)",
   "language": "python",
   "name": "python3"
  },
  "language_info": {
   "codemirror_mode": {
    "name": "ipython",
    "version": 3
   },
   "file_extension": ".py",
   "mimetype": "text/x-python",
   "name": "python",
   "nbconvert_exporter": "python",
   "pygments_lexer": "ipython3",
   "version": "3.10.9"
  }
 },
 "nbformat": 4,
 "nbformat_minor": 5
}
